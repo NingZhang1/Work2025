{
 "cells": [
  {
   "cell_type": "code",
   "execution_count": null,
   "metadata": {},
   "outputs": [],
   "source": [
    "import pyscf_util\n",
    "from pyscf_util.Analyzer.iCIPT2.analyzer import *"
   ]
  },
  {
   "cell_type": "code",
   "execution_count": null,
   "metadata": {},
   "outputs": [],
   "source": [
    "import matplotlib.pyplot as plt"
   ]
  },
  {
   "cell_type": "code",
   "execution_count": null,
   "metadata": {},
   "outputs": [],
   "source": [
    "# 1.2\n",
    "res1 = extract_icipt2_data_from_file2(\"../1.2/f08.out1\")\n",
    "res2 = extract_icipt2_data_from_file(\"../1.2/f08.out\")\n",
    "res = res1+res2\n",
    "for x in res:\n",
    "    print(x)\n",
    "ept = [x.ept for x in res]\n",
    "etot = [x.etot for x in res]\n",
    "print(ept)\n",
    "print(etot)\n",
    "\n",
    "print(extra_icipt2_data(res, 4))\n",
    "# print(extra_icipt2_data(res, 5))\n",
    "# plt.plot(ept, etot)\n",
    "plt.plot(ept, etot, linewidth=2, markersize=15, marker='x')"
   ]
  },
  {
   "cell_type": "code",
   "execution_count": null,
   "metadata": {},
   "outputs": [],
   "source": [
    "# 1.4\n",
    "res1 = extract_icipt2_data_from_file2(\"../1.4/f07.out1\")\n",
    "res2 = extract_icipt2_data_from_file(\"../1.4/f08.out\")\n",
    "res = res1+res2\n",
    "for x in res:\n",
    "    print(x)\n",
    "ept = [x.ept for x in res]\n",
    "etot = [x.etot for x in res]\n",
    "print(ept)\n",
    "print(etot)\n",
    "\n",
    "print(extra_icipt2_data(res, 4))\n",
    "# print(extra_icipt2_data(res, 5))\n",
    "# plt.plot(ept, etot)\n",
    "plt.plot(ept, etot, linewidth=2, markersize=15, marker='x')"
   ]
  },
  {
   "cell_type": "code",
   "execution_count": null,
   "metadata": {},
   "outputs": [],
   "source": [
    "# 1.6\n",
    "res1 = extract_icipt2_data_from_file2(\"../1.6/f09.out1\")\n",
    "res2 = extract_icipt2_data_from_file(\"../1.6/f10.out\")\n",
    "res = res1+res2\n",
    "for x in res:\n",
    "    print(x)\n",
    "ept = [x.ept for x in res]\n",
    "etot = [x.etot for x in res]\n",
    "print(ept)\n",
    "print(etot)\n",
    "\n",
    "print(extra_icipt2_data(res, 4))\n",
    "# print(extra_icipt2_data(res, 5))\n",
    "plt.plot(ept, etot, linewidth=2, markersize=15, marker='x')"
   ]
  },
  {
   "cell_type": "code",
   "execution_count": null,
   "metadata": {},
   "outputs": [],
   "source": [
    "# 1.7\n",
    "# res1 = extract_icipt2_data_from_file2(\"../1.6/f09.out1\")\n",
    "res = extract_icipt2_data_from_file(\"../1.7/f07.out\")\n",
    "ept = [x.ept for x in res]\n",
    "etot = [x.etot for x in res]\n",
    "print(ept)\n",
    "print(etot)\n",
    "\n",
    "print(extra_icipt2_data(res, 3))\n",
    "# print(extra_icipt2_data(res, 5))\n",
    "plt.plot(ept, etot, linewidth=2, markersize=15, marker='x')"
   ]
  },
  {
   "cell_type": "code",
   "execution_count": null,
   "metadata": {},
   "outputs": [],
   "source": [
    "# 1.8\n",
    "# res1 = extract_icipt2_data_from_file2(\"../1.6/f09.out1\")\n",
    "res = extract_icipt2_data_from_file(\"../1.8/f10.out\")\n",
    "ept = [x.ept for x in res]\n",
    "etot = [x.etot for x in res]\n",
    "print(ept)\n",
    "print(etot)\n",
    "\n",
    "print(extra_icipt2_data(res, 3))\n",
    "print(extra_icipt2_data(res, 4))\n",
    "# print(extra_icipt2_data(res, 5))\n",
    "plt.plot(ept, etot, linewidth=2, markersize=15, marker='x')"
   ]
  },
  {
   "cell_type": "code",
   "execution_count": null,
   "metadata": {},
   "outputs": [],
   "source": [
    "# 1.9\n",
    "# res1 = extract_icipt2_data_from_file2(\"../1.6/f09.out1\")\n",
    "res = extract_icipt2_data_from_file(\"../1.9/f01.out\")\n",
    "ept = [x.ept for x in res]\n",
    "etot = [x.etot for x in res]\n",
    "print(ept)\n",
    "print(etot)\n",
    "\n",
    "print(extra_icipt2_data(res, 3))\n",
    "print(extra_icipt2_data(res, 4))\n",
    "# print(extra_icipt2_data(res, 5))\n",
    "plt.plot(ept, etot, linewidth=2, markersize=15, marker='x')"
   ]
  },
  {
   "cell_type": "code",
   "execution_count": null,
   "metadata": {},
   "outputs": [],
   "source": [
    "# 2.0\n",
    "# res1 = extract_icipt2_data_from_file2(\"../1.6/f09.out1\")\n",
    "res = extract_icipt2_data_from_file(\"../2.0/f08.out\")\n",
    "ept = [x.ept for x in res]\n",
    "etot = [x.etot for x in res]\n",
    "print(ept)\n",
    "print(etot)\n",
    "\n",
    "print(extra_icipt2_data(res, 3))\n",
    "print(extra_icipt2_data(res, 4))\n",
    "# print(extra_icipt2_data(res, 5))\n",
    "plt.plot(ept, etot, linewidth=2, markersize=15, marker='x')"
   ]
  },
  {
   "cell_type": "code",
   "execution_count": null,
   "metadata": {},
   "outputs": [],
   "source": [
    "# 2.2\n",
    "# res1 = extract_icipt2_data_from_file2(\"../1.6/f09.out1\")\n",
    "res = extract_icipt2_data_from_file(\"../2.2/f09.out\")\n",
    "ept = [x.ept for x in res]\n",
    "etot = [x.etot for x in res]\n",
    "print(ept)\n",
    "print(etot)\n",
    "\n",
    "print(extra_icipt2_data(res, 3))\n",
    "print(extra_icipt2_data(res, 4))\n",
    "# print(extra_icipt2_data(res, 5))\n",
    "plt.plot(ept, etot, linewidth=2, markersize=15, marker='x')"
   ]
  },
  {
   "cell_type": "code",
   "execution_count": null,
   "metadata": {},
   "outputs": [],
   "source": [
    "# 2.4\n",
    "# res1 = extract_icipt2_data_from_file2(\"../1.6/f09.out1\")\n",
    "res = extract_icipt2_data_from_file(\"../2.4/f10.out\")\n",
    "ept = [x.ept for x in res]\n",
    "etot = [x.etot for x in res]\n",
    "print(ept)\n",
    "print(etot)\n",
    "\n",
    "print(extra_icipt2_data(res, 3))\n",
    "print(extra_icipt2_data(res, 4))\n",
    "# print(extra_icipt2_data(res, 5))\n",
    "plt.plot(ept, etot, linewidth=2, markersize=15, marker='x')"
   ]
  },
  {
   "cell_type": "code",
   "execution_count": null,
   "metadata": {},
   "outputs": [],
   "source": [
    "# 2.6\n",
    "# res1 = extract_icipt2_data_from_file2(\"../1.6/f09.out1\")\n",
    "res = extract_icipt2_data_from_file(\"../2.6/f08.out\")\n",
    "ept = [x.ept for x in res]\n",
    "etot = [x.etot for x in res]\n",
    "print(ept)\n",
    "print(etot)\n",
    "\n",
    "print(extra_icipt2_data(res, 3))\n",
    "print(extra_icipt2_data(res, 4))\n",
    "# print(extra_icipt2_data(res, 5))\n",
    "plt.plot(ept, etot, linewidth=2, markersize=15, marker='x')"
   ]
  },
  {
   "cell_type": "code",
   "execution_count": null,
   "metadata": {},
   "outputs": [],
   "source": [
    "# 2.8\n",
    "# res1 = extract_icipt2_data_from_file2(\"../1.6/f09.out1\")\n",
    "res = extract_icipt2_data_from_file(\"../2.8/f09.out\")\n",
    "ept = [x.ept for x in res]\n",
    "etot = [x.etot for x in res]\n",
    "print(ept)\n",
    "print(etot)\n",
    "\n",
    "print(extra_icipt2_data(res, 3))\n",
    "print(extra_icipt2_data(res, 4))\n",
    "# print(extra_icipt2_data(res, 5))\n",
    "plt.plot(ept, etot, linewidth=2, markersize=15, marker='x')"
   ]
  },
  {
   "cell_type": "code",
   "execution_count": null,
   "metadata": {},
   "outputs": [],
   "source": [
    "# 3.0\n",
    "# res1 = extract_icipt2_data_from_file2(\"../1.6/f09.out1\")\n",
    "res = extract_icipt2_data_from_file(\"../3.0/f07.out\")\n",
    "ept = [x.ept for x in res]\n",
    "etot = [x.etot for x in res]\n",
    "print(ept)\n",
    "print(etot)\n",
    "\n",
    "print(extra_icipt2_data(res, 3))\n",
    "print(extra_icipt2_data(res, 4))\n",
    "# print(extra_icipt2_data(res, 5))\n",
    "plt.plot(ept, etot, linewidth=2, markersize=15, marker='x')"
   ]
  }
 ],
 "metadata": {
  "kernelspec": {
   "display_name": "pyscf",
   "language": "python",
   "name": "python3"
  },
  "language_info": {
   "codemirror_mode": {
    "name": "ipython",
    "version": 3
   },
   "file_extension": ".py",
   "mimetype": "text/x-python",
   "name": "python",
   "nbconvert_exporter": "python",
   "pygments_lexer": "ipython3",
   "version": "3.10.16"
  }
 },
 "nbformat": 4,
 "nbformat_minor": 2
}
