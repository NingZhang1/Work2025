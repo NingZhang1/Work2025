{
 "cells": [
  {
   "cell_type": "code",
   "execution_count": null,
   "metadata": {},
   "outputs": [],
   "source": [
    "import re"
   ]
  },
  {
   "cell_type": "code",
   "execution_count": null,
   "metadata": {},
   "outputs": [],
   "source": [
    "# 正则表达式模式\n",
    "pattern = r\"\\*\\*\\*\\*\\*\\*\\*\\*\\*\\* BEGIN PRINT Important cfgspace INFO \\*\\*\\*\\*\\*\\*\\*\\*\\*\\*\\n\\n\\s+ncsf \\| symmetry \\|  nstates \\|  spintwo \\|     ncfg \\|   energy \\n\\s+(\\d+) \\| +(\\d+) \\| +(\\d+) \\| +(\\d+) \\| +(\\d+) \\| +(-?\\d+\\.\\d+),\"\n"
   ]
  },
  {
   "cell_type": "code",
   "execution_count": null,
   "metadata": {},
   "outputs": [],
   "source": [
    "import os\n",
    "\n",
    "# 定义存储结果的字典\n",
    "results = {}\n",
    "\n",
    "# 遍历 data/gock_ene 目录下以 .out 结尾的文件\n",
    "for filename in os.listdir(\"../data/gfock_ene\"):\n",
    "    if filename.endswith(\".out\") and filename.startswith(\"cr2_rdm1\"):\n",
    "        # 分割文件名，提取 bondlength 和 基组名称\n",
    "        parts = filename.split(\"_\")\n",
    "        bondlength = int(parts[2]) / 100  # 恢复为原始 bondlength\n",
    "        basis_set = parts[3].replace(\".out\", \"\")\n",
    "\n",
    "        # 打开文件并读取内容\n",
    "        with open(os.path.join(\"../data/gfock_ene\", filename), \"r\") as file:\n",
    "            content = file.read()\n",
    "            \n",
    "        # 使用正则表达式匹配内容\n",
    "        matches = re.findall(pattern, content)\n",
    "        # print(matches)\n",
    "        if matches and len(matches) > 1:\n",
    "            # 只保留第二个匹配结果\n",
    "            second_match = matches[1]\n",
    "            results[(bondlength, basis_set)] = {\n",
    "                \"ncsf\": int(second_match[0]),\n",
    "                \"symmetry\": int(second_match[1]),\n",
    "                \"nstates\": int(second_match[2]),\n",
    "                \"spintwo\": int(second_match[3]),\n",
    "                \"ncfg\": int(second_match[4]),\n",
    "                \"energy\": float(second_match[5]),\n",
    "            }\n",
    "\n",
    "# 打印结果字典\n",
    "print(results)"
   ]
  },
  {
   "cell_type": "code",
   "execution_count": null,
   "metadata": {},
   "outputs": [],
   "source": [
    "import matplotlib.pyplot as plt\n",
    "\n",
    "# 按照 basis_set 分组\n",
    "grouped_results = {}\n",
    "for (bondlength, basis), data in results.items():\n",
    "    if basis not in grouped_results:\n",
    "        grouped_results[basis] = {\"bondlengths\": [], \"energies\": []}\n",
    "    grouped_results[basis][\"bondlengths\"].append(bondlength)\n",
    "    grouped_results[basis][\"energies\"].append(data[\"energy\"])\n",
    "\n",
    "    # 按照键长从小到大排序\n",
    "    for basis, data in grouped_results.items():\n",
    "        sorted_indices = sorted(range(len(data[\"bondlengths\"])), key=lambda i: data[\"bondlengths\"][i])\n",
    "        data[\"bondlengths\"] = [data[\"bondlengths\"][i] for i in sorted_indices]\n",
    "        data[\"energies\"] = [data[\"energies\"][i] for i in sorted_indices]\n",
    "\n",
    "# 绘制图形\n",
    "plt.figure(figsize=(10, 6))\n",
    "for basis, data in grouped_results.items():\n",
    "    plt.plot(data[\"bondlengths\"], data[\"energies\"], marker='o', label=basis)\n",
    "\n",
    "plt.xlabel(\"Bondlength (Å)\")\n",
    "plt.ylabel(\"Energy (Hartree)\")\n",
    "plt.title(\"Energy vs Bondlength for Different Basis Sets\")\n",
    "plt.legend()\n",
    "plt.grid(True)\n",
    "plt.show()"
   ]
  },
  {
   "cell_type": "markdown",
   "metadata": {},
   "source": [
    "# the result is correct ! "
   ]
  }
 ],
 "metadata": {
  "kernelspec": {
   "display_name": "pyscf",
   "language": "python",
   "name": "python3"
  },
  "language_info": {
   "codemirror_mode": {
    "name": "ipython",
    "version": 3
   },
   "file_extension": ".py",
   "mimetype": "text/x-python",
   "name": "python",
   "nbconvert_exporter": "python",
   "pygments_lexer": "ipython3",
   "version": "3.10.16"
  }
 },
 "nbformat": 4,
 "nbformat_minor": 2
}
