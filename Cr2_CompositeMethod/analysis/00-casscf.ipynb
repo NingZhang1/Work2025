{
 "cells": [
  {
   "cell_type": "code",
   "execution_count": null,
   "metadata": {},
   "outputs": [],
   "source": [
    "import pyscf_util"
   ]
  },
  {
   "cell_type": "code",
   "execution_count": null,
   "metadata": {},
   "outputs": [],
   "source": [
    "import re\n",
    "\n",
    "def extract_casscf_energy(file_path):\n",
    "    # 定义正则表达式匹配 CASSCF energy 的行\n",
    "    pattern = r\"CASSCF energy\\s*=\\s*(-?\\d+\\.\\d+)\"\n",
    "    \n",
    "    try:\n",
    "        # 打开文件并读取内容\n",
    "        with open(file_path, 'r') as file:\n",
    "            content = file.read()\n",
    "        \n",
    "        # 使用正则表达式查找匹配的内容\n",
    "        matches = re.findall(pattern, content)\n",
    "        \n",
    "        # 如果找到匹配项，返回能量值列表\n",
    "        if matches:\n",
    "            energies = [float(energy) for energy in matches]\n",
    "            return energies\n",
    "        else:\n",
    "            print(\"未找到匹配的 CASSCF energy 行\")\n",
    "            return None\n",
    "    except FileNotFoundError:\n",
    "        print(f\"文件 {file_path} 未找到\")\n",
    "        return None\n",
    "\n",
    "# 示例用法\n",
    "file_path = \"your_file.txt\"  # 替换为你的文件路径\n",
    "energies = extract_casscf_energy(file_path)\n",
    "\n",
    "if energies:\n",
    "    print(\"提取的 CASSCF 能量值：\")\n",
    "    for energy in energies:\n",
    "        print(energy)"
   ]
  },
  {
   "cell_type": "code",
   "execution_count": null,
   "metadata": {},
   "outputs": [],
   "source": [
    "# read file #\n",
    "\n",
    "qz_5z = extract_casscf_energy(\"../casscf_out/qz_5z.out\")\n",
    "dz_tz = extract_casscf_energy(\"../casscf_out/dz_tz.out\")"
   ]
  },
  {
   "cell_type": "code",
   "execution_count": null,
   "metadata": {},
   "outputs": [],
   "source": [
    "BOND_LENGTH = [1.3, 1.4, 1.5, 1.6, 1.68, 1.8, 1.9, 2.0, 2.2, 2.5, 2.8, 3.2]\n",
    "_dz = dz_tz[:12]\n",
    "_tz = dz_tz[12:22]\n",
    "_qz = qz_5z[:12]\n",
    "_5z = qz_5z[12:24]\n",
    "\n",
    "_dz[-3] = -2099.30703346704\n",
    "_dz[-2] = -2099.3152075368\n",
    "_tz.extend([-2099.31643066554, -2099.31885492042])"
   ]
  },
  {
   "cell_type": "code",
   "execution_count": null,
   "metadata": {},
   "outputs": [],
   "source": [
    "from scipy.interpolate import CubicSpline\n",
    "\n",
    "import matplotlib.pyplot as plt\n",
    "\n",
    "# 使用 BOND_LENGTH 和 _dz 进行三次样条插值\n",
    "cs_dz = CubicSpline(BOND_LENGTH, _dz)\n",
    "cs_tz = CubicSpline(BOND_LENGTH, _tz)\n",
    "cs_qz = CubicSpline(BOND_LENGTH, _qz)\n",
    "cs_5z = CubicSpline(BOND_LENGTH, _5z)\n",
    "\n",
    "# 生成更密集的点用于绘图\n",
    "bond_length_dense = [i / 100 for i in range(int(min(BOND_LENGTH) * 100), int(max(BOND_LENGTH) * 100) + 1)]\n",
    "\n",
    "# 计算插值值\n",
    "dz_dense = cs_dz(bond_length_dense)\n",
    "tz_dense = cs_tz(bond_length_dense)\n",
    "qz_dense = cs_qz(bond_length_dense)\n",
    "_5z_dense = cs_5z(bond_length_dense)\n",
    "\n",
    "# 绘制势能曲线\n",
    "plt.figure(figsize=(10, 6))\n",
    "plt.plot(bond_length_dense, dz_dense, label=\"DZ\", linestyle='--')\n",
    "plt.plot(bond_length_dense, tz_dense, label=\"TZ\", linestyle='-.')\n",
    "plt.plot(bond_length_dense, qz_dense, label=\"QZ\", linestyle=':')\n",
    "plt.plot(bond_length_dense, _5z_dense, label=\"5Z\", linestyle='-')\n",
    "plt.scatter(BOND_LENGTH, _dz, color='blue', label=\"DZ Points\")\n",
    "plt.scatter(BOND_LENGTH, _tz, color='orange', label=\"TZ Points\")\n",
    "plt.scatter(BOND_LENGTH, _qz, color='green', label=\"QZ Points\")\n",
    "plt.scatter(BOND_LENGTH, _5z, color='red', label=\"5Z Points\")\n",
    "\n",
    "plt.xlabel(\"Bond Length (Å)\")\n",
    "plt.ylabel(\"Energy (Hartree)\")\n",
    "plt.title(\"Potential Energy Curve\")\n",
    "plt.legend()\n",
    "plt.grid()\n",
    "plt.show()"
   ]
  }
 ],
 "metadata": {
  "kernelspec": {
   "display_name": "pyscf",
   "language": "python",
   "name": "python3"
  },
  "language_info": {
   "codemirror_mode": {
    "name": "ipython",
    "version": 3
   },
   "file_extension": ".py",
   "mimetype": "text/x-python",
   "name": "python",
   "nbconvert_exporter": "python",
   "pygments_lexer": "ipython3",
   "version": "3.10.16"
  }
 },
 "nbformat": 4,
 "nbformat_minor": 2
}
