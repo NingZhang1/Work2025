{
 "cells": [
  {
   "cell_type": "code",
   "execution_count": null,
   "metadata": {},
   "outputs": [],
   "source": [
    "import pyscf\n",
    "from pyscf import scf, tools\n",
    "import numpy\n",
    "from pyscf_util.File.file_cmoao import ReadIn_Cmoao\n",
    "\n",
    "GEOMETRY = \"\"\"\n",
    "Fe       0.000000        0.000000        0.000000\n",
    "N        3.734855       -0.000000        0.000000\n",
    "N       -0.000000        0.000000       -3.757531\n",
    "N       -3.734855        0.000000        0.000000\n",
    "N        0.000000        0.000000        3.757531\n",
    "C        5.325626       -0.000000        2.060368\n",
    "C        5.325626       -0.000000       -2.060368\n",
    "C        2.063203       -0.000000       -5.338287\n",
    "C       -2.063203        0.000000       -5.338287\n",
    "C       -5.325626        0.000000       -2.060368\n",
    "C       -5.325626        0.000000        2.060368\n",
    "C       -2.063203        0.000000        5.338287\n",
    "C        2.063203       -0.000000        5.338287\n",
    "C        7.929480       -0.000000        1.279912\n",
    "C        7.929480       -0.000000       -1.279912\n",
    "C        1.289738       -0.000000       -7.920220\n",
    "C       -1.289738        0.000000       -7.920220\n",
    "C       -7.929480        0.000000       -1.279912\n",
    "C       -7.929480        0.000000        1.279912\n",
    "C       -1.289738        0.000000        7.920220\n",
    "C        1.289738       -0.000000        7.920220\n",
    "H        9.531968       -0.000000        2.558311\n",
    "H        9.531968       -0.000000       -2.558311\n",
    "H        2.562091       -0.000000       -9.527243\n",
    "H       -2.562091        0.000000       -9.527243\n",
    "H       -9.531968        0.000000       -2.558311\n",
    "H       -9.531968        0.000000        2.558311\n",
    "H       -2.562091        0.000000        9.527243\n",
    "H        2.562091       -0.000000        9.527243\n",
    "C        4.563689       -0.000000       -4.551027\n",
    "C       -4.563689        0.000000       -4.551027\n",
    "C       -4.563689        0.000000        4.551027\n",
    "C        4.563689       -0.000000        4.551027\n",
    "H        6.019723       -0.000000       -6.000258\n",
    "H       -6.019723        0.000000       -6.000258\n",
    "H       -6.019723        0.000000        6.000258\n",
    "H        6.019723       -0.000000        6.000258\n",
    "\"\"\""
   ]
  },
  {
   "cell_type": "code",
   "execution_count": null,
   "metadata": {},
   "outputs": [],
   "source": [
    "# ROHF #\n",
    "\n",
    "Mol = pyscf.gto.Mole()\n",
    "Mol.atom = GEOMETRY\n",
    "Mol.basis = \"cc-pvdz\"\n",
    "Mol.symmetry = True\n",
    "Mol.spin = 0\n",
    "Mol.charge = 0\n",
    "Mol.verbose = 4\n",
    "Mol.unit = \"bohr\"\n",
    "Mol.build()\n",
    "\n",
    "fep_rohf = ReadIn_Cmoao(\"FeP_ROHF\", Mol.nao, Mol.nao)"
   ]
  },
  {
   "cell_type": "code",
   "execution_count": null,
   "metadata": {},
   "outputs": [],
   "source": [
    "tools.molden.from_mo(Mol, \"FeP_ROHF.molden\", fep_rohf)"
   ]
  }
 ],
 "metadata": {
  "kernelspec": {
   "display_name": "pyscf",
   "language": "python",
   "name": "python3"
  },
  "language_info": {
   "codemirror_mode": {
    "name": "ipython",
    "version": 3
   },
   "file_extension": ".py",
   "mimetype": "text/x-python",
   "name": "python",
   "nbconvert_exporter": "python",
   "pygments_lexer": "ipython3",
   "version": "3.10.16"
  }
 },
 "nbformat": 4,
 "nbformat_minor": 2
}
