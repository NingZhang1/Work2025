{
 "cells": [
  {
   "cell_type": "code",
   "execution_count": null,
   "metadata": {},
   "outputs": [],
   "source": [
    "import pyscf\n",
    "from pyscf import scf, tools\n",
    "import numpy\n",
    "from pyscf_util.File.file_cmoao import ReadIn_Cmoao\n",
    "\n",
    "from CONFIG import *"
   ]
  },
  {
   "cell_type": "code",
   "execution_count": null,
   "metadata": {},
   "outputs": [],
   "source": [
    "# 05S #\n",
    "\n",
    "task_info = TaskInfoBDF[6]\n",
    "\n",
    "molden_file = \"molden/\" + task_info[\"title\"] + \".mcscf.molden\"\n",
    "\n",
    "Mol = pyscf.gto.Mole()\n",
    "Mol.atom = task_info[\"mol\"]\n",
    "Mol.basis = \"cc-pvdz\"\n",
    "Mol.symmetry = \"d2h\"\n",
    "Mol.spin = task_info[\"unpair\"]\n",
    "Mol.charge = 0\n",
    "Mol.verbose = 4\n",
    "Mol.unit = \"bohr\"\n",
    "Mol.build()\n",
    "\n",
    "cmoao = ReadIn_Cmoao(\"DZ/05S_cc-pvdz\", Mol.nao, Mol.nao)\n",
    "tools.molden.from_mo(Mol, \"05S_cc-pvdz.molden\", cmoao)"
   ]
  }
 ],
 "metadata": {
  "kernelspec": {
   "display_name": "pyscf",
   "language": "python",
   "name": "python3"
  },
  "language_info": {
   "codemirror_mode": {
    "name": "ipython",
    "version": 3
   },
   "file_extension": ".py",
   "mimetype": "text/x-python",
   "name": "python",
   "nbconvert_exporter": "python",
   "pygments_lexer": "ipython3",
   "version": "3.10.16"
  }
 },
 "nbformat": 4,
 "nbformat_minor": 2
}
